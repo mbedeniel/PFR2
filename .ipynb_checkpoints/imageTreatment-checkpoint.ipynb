{
 "cells": [
  {
   "cell_type": "code",
   "execution_count": null,
   "id": "83b55ea1-6093-4c7d-bdb1-cc96faf14112",
   "metadata": {},
   "outputs": [],
   "source": [
    "#LOADING IMAGE"
   ]
  },
  {
   "cell_type": "code",
   "execution_count": null,
   "id": "ec5c5ac4-0d76-4ea5-99de-ea4f051ac20d",
   "metadata": {},
   "outputs": [],
   "source": [
    "#PREPROCESSING ALGORITHM"
   ]
  },
  {
   "cell_type": "code",
   "execution_count": null,
   "id": "f98d37e2-adcd-4740-9105-cc02205b389f",
   "metadata": {},
   "outputs": [],
   "source": [
    "#PROCESSING ALGORITHM"
   ]
  },
  {
   "cell_type": "code",
   "execution_count": null,
   "id": "2ca82bc2-f8c5-4fcc-bf0d-72c153f6e30a",
   "metadata": {},
   "outputs": [],
   "source": [
    "#INTERFACE"
   ]
  }
 ],
 "metadata": {
  "kernelspec": {
   "display_name": "",
   "name": ""
  },
  "language_info": {
   "name": ""
  }
 },
 "nbformat": 4,
 "nbformat_minor": 5
}
